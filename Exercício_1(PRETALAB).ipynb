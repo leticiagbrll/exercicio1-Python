{
  "nbformat": 4,
  "nbformat_minor": 0,
  "metadata": {
    "colab": {
      "provenance": [],
      "authorship_tag": "ABX9TyMI5h0pt4RrbhTXq3qOgjby",
      "include_colab_link": true
    },
    "kernelspec": {
      "name": "python3",
      "display_name": "Python 3"
    },
    "language_info": {
      "name": "python"
    }
  },
  "cells": [
    {
      "cell_type": "markdown",
      "metadata": {
        "id": "view-in-github",
        "colab_type": "text"
      },
      "source": [
        "<a href=\"https://colab.research.google.com/github/leticiagbrll/exercicio1-Python/blob/main/Exerc%C3%ADcio_1(PRETALAB).ipynb\" target=\"_parent\"><img src=\"https://colab.research.google.com/assets/colab-badge.svg\" alt=\"Open In Colab\"/></a>"
      ]
    },
    {
      "cell_type": "markdown",
      "source": [
        "Josane Luzia da Silva<br/>\n",
        "Letícia Gabrielle de Assis Souza<br/>\n",
        "Mayara dos Santos Ribeiro Gonçalves<br/>\n",
        "Raquel de Azevedo Vargas<br/>"
      ],
      "metadata": {
        "id": "TItQl2YjA0sf"
      }
    },
    {
      "cell_type": "markdown",
      "source": [
        "**Módulo 1: Coleta de Dados**\n",
        "\n",
        "  **Tarefa:** Criar um módulo chamado `coleta_dados.py` que contenha funções para ler arquivos CSV que simulam a coleta de dados sobre diversidade nas empresas. Cada aluna será responsável por trabalhar com um arquivo que contenha dados de diferentes empresa."
      ],
      "metadata": {
        "id": "TdFeoRkTAZLx"
      }
    },
    {
      "cell_type": "code",
      "source": [
        "#Criando módulo coleta_dados.py\n",
        "with open('coleta_dados.py', 'w') as f:\n",
        "  f.write(\"\"\"\n",
        "import csv\n",
        "\n",
        "def dados_diversidade(arquivo_csv):\n",
        "  with open(arquivo_csv, mode='r', encoding='utf-8-sig') as arquivo:\n",
        "    reader = csv.DictReader(arquivo)\n",
        "    dados = [row for row in reader]\n",
        "    return dados\n",
        "  \"\"\")\n"
      ],
      "metadata": {
        "id": "sO3pRq_UCMuI"
      },
      "execution_count": 1,
      "outputs": []
    },
    {
      "cell_type": "code",
      "source": [
        "#Abrindo um banco de dados, considerando o módulo criado\n",
        "import coleta_dados\n",
        "from coleta_dados import dados_diversidade\n",
        "\n",
        "arquivo_csv = '/content/WA_Fn-UseC_-HR-Employee-Attrition.csv'\n",
        "\n",
        "dados = dados_diversidade(arquivo_csv)\n",
        "print(dados[:5])"
      ],
      "metadata": {
        "colab": {
          "base_uri": "https://localhost:8080/"
        },
        "id": "a981ndxAC1pE",
        "outputId": "6cf425fb-5a08-4607-ea2a-22672e96904f"
      },
      "execution_count": 2,
      "outputs": [
        {
          "output_type": "stream",
          "name": "stdout",
          "text": [
            "[{'Age': '41', 'Attrition': 'Yes', 'BusinessTravel': 'Travel_Rarely', 'DailyRate': '1102', 'Department': 'Sales', 'DistanceFromHome': '1', 'Education': '2', 'EducationField': 'Life Sciences', 'EmployeeCount': '1', 'EmployeeNumber': '1', 'EnvironmentSatisfaction': '2', 'Gender': 'Female', 'HourlyRate': '94', 'JobInvolvement': '3', 'JobLevel': '2', 'JobRole': 'Sales Executive', 'JobSatisfaction': '4', 'MaritalStatus': 'Single', 'MonthlyIncome': '5993', 'MonthlyRate': '19479', 'NumCompaniesWorked': '8', 'Over18': 'Y', 'OverTime': 'Yes', 'PercentSalaryHike': '11', 'PerformanceRating': '3', 'RelationshipSatisfaction': '1', 'StandardHours': '80', 'StockOptionLevel': '0', 'TotalWorkingYears': '8', 'TrainingTimesLastYear': '0', 'WorkLifeBalance': '1', 'YearsAtCompany': '6', 'YearsInCurrentRole': '4', 'YearsSinceLastPromotion': '0', 'YearsWithCurrManager': '5'}, {'Age': '49', 'Attrition': 'No', 'BusinessTravel': 'Travel_Frequently', 'DailyRate': '279', 'Department': 'Research & Development', 'DistanceFromHome': '8', 'Education': '1', 'EducationField': 'Life Sciences', 'EmployeeCount': '1', 'EmployeeNumber': '2', 'EnvironmentSatisfaction': '3', 'Gender': 'Male', 'HourlyRate': '61', 'JobInvolvement': '2', 'JobLevel': '2', 'JobRole': 'Research Scientist', 'JobSatisfaction': '2', 'MaritalStatus': 'Married', 'MonthlyIncome': '5130', 'MonthlyRate': '24907', 'NumCompaniesWorked': '1', 'Over18': 'Y', 'OverTime': 'No', 'PercentSalaryHike': '23', 'PerformanceRating': '4', 'RelationshipSatisfaction': '4', 'StandardHours': '80', 'StockOptionLevel': '1', 'TotalWorkingYears': '10', 'TrainingTimesLastYear': '3', 'WorkLifeBalance': '3', 'YearsAtCompany': '10', 'YearsInCurrentRole': '7', 'YearsSinceLastPromotion': '1', 'YearsWithCurrManager': '7'}, {'Age': '37', 'Attrition': 'Yes', 'BusinessTravel': 'Travel_Rarely', 'DailyRate': '1373', 'Department': 'Research & Development', 'DistanceFromHome': '2', 'Education': '2', 'EducationField': 'Other', 'EmployeeCount': '1', 'EmployeeNumber': '4', 'EnvironmentSatisfaction': '4', 'Gender': 'Male', 'HourlyRate': '92', 'JobInvolvement': '2', 'JobLevel': '1', 'JobRole': 'Laboratory Technician', 'JobSatisfaction': '3', 'MaritalStatus': 'Single', 'MonthlyIncome': '2090', 'MonthlyRate': '2396', 'NumCompaniesWorked': '6', 'Over18': 'Y', 'OverTime': 'Yes', 'PercentSalaryHike': '15', 'PerformanceRating': '3', 'RelationshipSatisfaction': '2', 'StandardHours': '80', 'StockOptionLevel': '0', 'TotalWorkingYears': '7', 'TrainingTimesLastYear': '3', 'WorkLifeBalance': '3', 'YearsAtCompany': '0', 'YearsInCurrentRole': '0', 'YearsSinceLastPromotion': '0', 'YearsWithCurrManager': '0'}, {'Age': '33', 'Attrition': 'No', 'BusinessTravel': 'Travel_Frequently', 'DailyRate': '1392', 'Department': 'Research & Development', 'DistanceFromHome': '3', 'Education': '4', 'EducationField': 'Life Sciences', 'EmployeeCount': '1', 'EmployeeNumber': '5', 'EnvironmentSatisfaction': '4', 'Gender': 'Female', 'HourlyRate': '56', 'JobInvolvement': '3', 'JobLevel': '1', 'JobRole': 'Research Scientist', 'JobSatisfaction': '3', 'MaritalStatus': 'Married', 'MonthlyIncome': '2909', 'MonthlyRate': '23159', 'NumCompaniesWorked': '1', 'Over18': 'Y', 'OverTime': 'Yes', 'PercentSalaryHike': '11', 'PerformanceRating': '3', 'RelationshipSatisfaction': '3', 'StandardHours': '80', 'StockOptionLevel': '0', 'TotalWorkingYears': '8', 'TrainingTimesLastYear': '3', 'WorkLifeBalance': '3', 'YearsAtCompany': '8', 'YearsInCurrentRole': '7', 'YearsSinceLastPromotion': '3', 'YearsWithCurrManager': '0'}, {'Age': '27', 'Attrition': 'No', 'BusinessTravel': 'Travel_Rarely', 'DailyRate': '591', 'Department': 'Research & Development', 'DistanceFromHome': '2', 'Education': '1', 'EducationField': 'Medical', 'EmployeeCount': '1', 'EmployeeNumber': '7', 'EnvironmentSatisfaction': '1', 'Gender': 'Male', 'HourlyRate': '40', 'JobInvolvement': '3', 'JobLevel': '1', 'JobRole': 'Laboratory Technician', 'JobSatisfaction': '2', 'MaritalStatus': 'Married', 'MonthlyIncome': '3468', 'MonthlyRate': '16632', 'NumCompaniesWorked': '9', 'Over18': 'Y', 'OverTime': 'No', 'PercentSalaryHike': '12', 'PerformanceRating': '3', 'RelationshipSatisfaction': '4', 'StandardHours': '80', 'StockOptionLevel': '1', 'TotalWorkingYears': '6', 'TrainingTimesLastYear': '3', 'WorkLifeBalance': '3', 'YearsAtCompany': '2', 'YearsInCurrentRole': '2', 'YearsSinceLastPromotion': '2', 'YearsWithCurrManager': '2'}]\n"
          ]
        }
      ]
    },
    {
      "cell_type": "markdown",
      "source": [
        "**Módulo 2: Processamento de Dados**\n",
        "\n",
        "  **Tarefa:** Desenvolver um módulo chamado `processamento_dados.py`, onde serão processadas as informações lidas no primeiro módulo. Funções para calcular proporções, médias e categorizações dos dados **(ex.: porcentagem de mulheres na equipe, diversidade racial).**"
      ],
      "metadata": {
        "id": "yIoRh2OZHGHn"
      }
    },
    {
      "cell_type": "code",
      "source": [
        "# Criando o módulo processamento_dados.py\n",
        "with open('processamento_dados.py', 'w') as f:\n",
        "    f.write(\"\"\"\n",
        "def proporcao_genero(dados):\n",
        "    total = len(dados)\n",
        "    mulheres = 0\n",
        "\n",
        "    for linha in dados:\n",
        "        genero = linha['Gender'].strip().lower()\n",
        "        if genero == 'female':\n",
        "            mulheres += 1\n",
        "\n",
        "    return (mulheres / total) * 100 if total > 0 else 0\n",
        "\n",
        "def media_idade(dados):\n",
        "    idades = [int(linha['Age']) for linha in dados if linha['Age'].strip().isdigit()]\n",
        "    return sum(idades) / len(idades) if idades else 0\n",
        "\n",
        "def media_renda(dados):\n",
        "    rendas = [int(linha['MonthlyIncome']) for linha in dados if linha['MonthlyIncome'].strip().isdigit()]\n",
        "    return sum(rendas) / len(rendas) if rendas else 0\n",
        "    \"\"\")"
      ],
      "metadata": {
        "id": "YC5kneECHNDG"
      },
      "execution_count": 3,
      "outputs": []
    },
    {
      "cell_type": "code",
      "source": [
        "#Testando o módulo\n",
        "\n",
        "from coleta_dados import dados_diversidade\n",
        "from processamento_dados import proporcao_genero, media_idade, media_renda\n",
        "\n",
        "proporcao_mulheres = proporcao_genero(dados)\n",
        "media_idade_valor = media_idade(dados)\n",
        "media_renda_valor = media_renda(dados)\n",
        "\n",
        "print(f\"Proporção de mulheres: {proporcao_mulheres:.0f}%\")\n",
        "print(f\"Média idade: {media_idade_valor:.2f}\")\n",
        "print(f\"Média renda: {media_renda_valor:.2f} USD\")\n"
      ],
      "metadata": {
        "colab": {
          "base_uri": "https://localhost:8080/"
        },
        "id": "NOoW166FI1q2",
        "outputId": "c1ab68b0-2b73-4b6d-fbd6-322e82b51dc4"
      },
      "execution_count": 4,
      "outputs": [
        {
          "output_type": "stream",
          "name": "stdout",
          "text": [
            "Proporção de mulheres: 40%\n",
            "Média idade: 36.92\n",
            "Média renda: 6502.93 USD\n"
          ]
        }
      ]
    },
    {
      "cell_type": "markdown",
      "source": [
        "**Módulo 3: Manuseio e Escrita de Arquivos**\n",
        "\n",
        "  **Tarefa:** Criar um módulo `escrita_dados.py` que gera relatórios com os resultados das análises de diversidade, gravando essas informações em um arquivo de texto ou CSV."
      ],
      "metadata": {
        "id": "bnfnHCYHXQWH"
      }
    },
    {
      "cell_type": "markdown",
      "source": [
        "*CSV*"
      ],
      "metadata": {
        "id": "Rnh_wfJnfo-3"
      }
    },
    {
      "cell_type": "code",
      "source": [
        "# Criando o módulo escrita_dados.py\n",
        "\n",
        "with open('escrita_dados.py', 'w') as f:\n",
        "    f.write(\"\"\"\n",
        "import csv\n",
        "\n",
        "def gerar_relatorio_csv(proporcao_mulheres, media_idade, media_renda, arquivo_saida):\n",
        " with open(arquivo_saida, mode='w', newline='') as arquivo:\n",
        "     writer = csv.writer(arquivo)\n",
        "     writer.writerow(['Métrica', 'Valor'])\n",
        "     writer.writerow(['Proporção de mulheres', f'{proporcao_mulheres:.2f}%'])\n",
        "     writer.writerow(['Média idade', f'{media_idade:.2f} anos'])\n",
        "     writer.writerow(['Média renda', f'{media_renda:.2f} USD'])\n",
        "\"\"\")"
      ],
      "metadata": {
        "id": "9htfLZlmXPIb"
      },
      "execution_count": 5,
      "outputs": []
    },
    {
      "cell_type": "code",
      "source": [
        "from coleta_dados import dados_diversidade\n",
        "from processamento_dados import proporcao_genero, media_idade, media_renda\n",
        "from escrita_dados import gerar_relatorio_csv  # ou gerar_relatorio_texto\n",
        "\n",
        "#Funções para calcular a proporção de mulheres, média de idade e média de renda\n",
        "proporcao_mulheres = proporcao_genero(dados)\n",
        "media_idade_valor = media_idade(dados)\n",
        "media_renda_valor = media_renda(dados)\n",
        "\n",
        "# Gerando o relatório\n",
        "arquivo_saida = 'relatorio_diversidade.csv'  # ou 'relatorio_diversidade.txt'\n",
        "gerar_relatorio_csv(proporcao_mulheres, media_idade_valor, media_renda_valor, arquivo_saida)"
      ],
      "metadata": {
        "id": "naIMiL6IX_5x"
      },
      "execution_count": 6,
      "outputs": []
    },
    {
      "cell_type": "markdown",
      "source": [
        "*Texto*"
      ],
      "metadata": {
        "id": "HFanUZQifs8-"
      }
    },
    {
      "cell_type": "code",
      "source": [
        "#Criando o módulo escrita_dados_texto.py\n",
        "\n",
        "with open('escrita_dados_texto.py', 'w') as f:\n",
        "    f.write(\"\"\"\n",
        "def gerar_relatorio_texto(proporcao_mulheres, media_idade, media_renda, arquivo_saida):\n",
        "    with open(arquivo_saida, 'w') as arquivo:\n",
        "        arquivo.write(\"Relatório de diversidade\\\\n\")\n",
        "        arquivo.write(f\"Proporção de mulheres: {proporcao_mulheres:.2f}%\\\\n\")\n",
        "        arquivo.write(f\"Média idade: {media_idade:.2f} anos\\\\n\")\n",
        "        arquivo.write(f\"Média renda: {media_renda:.2f} USD\\\\n\")\n",
        "\"\"\")\n"
      ],
      "metadata": {
        "id": "TCHbJhFPfuFo"
      },
      "execution_count": 7,
      "outputs": []
    },
    {
      "cell_type": "code",
      "source": [
        "from coleta_dados import dados_diversidade\n",
        "from processamento_dados import proporcao_genero, media_idade, media_renda\n",
        "from escrita_dados_texto import gerar_relatorio_texto\n",
        "\n",
        "proporcao_mulheres = proporcao_genero(dados)\n",
        "media_idade_valor = media_idade(dados)\n",
        "media_renda_valor = media_renda(dados)\n",
        "\n",
        "# Gerando o relatório\n",
        "arquivo_saida = 'relatorio_diversidade.txt'\n",
        "gerar_relatorio_texto(proporcao_mulheres, media_idade_valor, media_renda_valor, arquivo_saida)"
      ],
      "metadata": {
        "id": "7DFbljwZgMT5"
      },
      "execution_count": 8,
      "outputs": []
    }
  ]
}